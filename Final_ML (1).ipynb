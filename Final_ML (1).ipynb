{
 "cells": [
  {
   "cell_type": "code",
   "execution_count": null,
   "metadata": {
    "colab": {},
    "colab_type": "code",
    "id": "rXH0B2RIxK45"
   },
   "outputs": [],
   "source": [
    "from numba import jit, njit, vectorize, cuda\n",
    "import numba"
   ]
  },
  {
   "cell_type": "code",
   "execution_count": null,
   "metadata": {
    "colab": {},
    "colab_type": "code",
    "id": "doWgqpDOxK49"
   },
   "outputs": [],
   "source": [
    "import pandas as pd\n",
    "import numpy as np\n",
    "import copy\n",
    "import statistics\n",
    "from statistics import mode\n",
    "from sklearn.model_selection import train_test_split"
   ]
  },
  {
   "cell_type": "code",
   "execution_count": null,
   "metadata": {
    "colab": {},
    "colab_type": "code",
    "id": "FIKcyS6nxK4_"
   },
   "outputs": [],
   "source": [
    "from sklearn.model_selection import train_test_split"
   ]
  },
  {
   "cell_type": "code",
   "execution_count": null,
   "metadata": {
    "colab": {},
    "colab_type": "code",
    "id": "c6l9SHlpxK5A"
   },
   "outputs": [],
   "source": [
    "data=pd.read_csv('ml.csv')"
   ]
  },
  {
   "cell_type": "code",
   "execution_count": null,
   "metadata": {
    "colab": {},
    "colab_type": "code",
    "id": "ZpPTT-_XxK5C",
    "outputId": "ae403a04-b943-4c20-ac4a-967acad44b15"
   },
   "outputs": [],
   "source": [
    "data.head()"
   ]
  },
  {
   "cell_type": "code",
   "execution_count": null,
   "metadata": {
    "colab": {},
    "colab_type": "code",
    "id": "KgTcYijbxK5S"
   },
   "outputs": [],
   "source": [
    "#standardize the dataset\n",
    "def stand(data):\n",
    "    i=1\n",
    "    a=[]\n",
    "    while i<24:\n",
    "        l=[]\n",
    "        mean=data[data.columns[i]].mean()\n",
    "        sd=data[data.columns[i]].std()\n",
    "        l.append(mean)\n",
    "        l.append(sd)\n",
    "        a.append(l)\n",
    "        i=i+1\n",
    "    j=0\n",
    "    while j<len(data):\n",
    "        k=1\n",
    "        while k<24:\n",
    "            data.iloc[j,k]=(data.iloc[j,k]-a[k-1][0])/a[k-1][1]\n",
    "            k=k+1\n",
    "        print(j)\n",
    "        j=j+1\n",
    "    return(data)"
   ]
  },
  {
   "cell_type": "code",
   "execution_count": null,
   "metadata": {
    "colab": {},
    "colab_type": "code",
    "id": "1o7yQnWVxK5U",
    "outputId": "e5d4d6a1-6f69-445a-c7cd-ad65ac673625",
    "scrolled": true
   },
   "outputs": [],
   "source": [
    "stand(data)"
   ]
  },
  {
   "cell_type": "code",
   "execution_count": null,
   "metadata": {
    "colab": {},
    "colab_type": "code",
    "id": "d-pRiC6pxK5W",
    "outputId": "3efaf76f-caee-4654-a4bd-d956ee18c04d"
   },
   "outputs": [],
   "source": [
    "data.head()"
   ]
  },
  {
   "cell_type": "code",
   "execution_count": null,
   "metadata": {
    "colab": {},
    "colab_type": "code",
    "id": "bZU6tncLxK5X"
   },
   "outputs": [],
   "source": [
    "#split the data into two groups - train and test\n",
    "data_train, data_test = train_test_split(data,test_size=0.2)"
   ]
  },
  {
   "cell_type": "code",
   "execution_count": null,
   "metadata": {
    "colab": {},
    "colab_type": "code",
    "id": "31NbGvz4xK5Z"
   },
   "outputs": [],
   "source": [
    "#get the data ready for training\n",
    "test=copy.deepcopy(data_test)\n",
    "train=copy.deepcopy(data_train)\n",
    "del test['class']\n",
    "del train['class']"
   ]
  },
  {
   "cell_type": "code",
   "execution_count": null,
   "metadata": {
    "colab": {},
    "colab_type": "code",
    "id": "pJrEJw9QxK5a"
   },
   "outputs": [],
   "source": [
    "#save the distance of every test data with every train data as a list of dictionaries\n",
    "#i'th element of dictionary has distance of i'th test data with every train data stored in a dictionary\n",
    "#key = index of train data ; value = distance of i'th test data with key index of train data\n",
    "final=[]\n",
    "def model(train,test):\n",
    "    for i in range(len(test)):\n",
    "        a={}\n",
    "        b=np.array(test.iloc[i])\n",
    "        for j in range(len(train)):\n",
    "            #l=0\n",
    "            c=np.array(train.iloc[j])\n",
    "            diff=b-c\n",
    "            l=np.sqrt(np.sum(np.square(diff)))\n",
    "            a[j]=l\n",
    "        final.append(a)\n",
    "        print(i)\n",
    "    return(final)"
   ]
  },
  {
   "cell_type": "code",
   "execution_count": null,
   "metadata": {
    "colab": {},
    "colab_type": "code",
    "id": "V4jbBTv-xK5c",
    "outputId": "b890c614-1c86-483f-bb1f-8ae437883a05"
   },
   "outputs": [],
   "source": [
    "model(train,test)"
   ]
  },
  {
   "cell_type": "code",
   "execution_count": null,
   "metadata": {
    "colab": {},
    "colab_type": "code",
    "id": "I7n8OlFExK6M"
   },
   "outputs": [],
   "source": [
    "#save distances to another list result\n",
    "result=copy.deepcopy(final)"
   ]
  },
  {
   "cell_type": "code",
   "execution_count": null,
   "metadata": {
    "colab": {},
    "colab_type": "code",
    "id": "Ok0XpKtgPm_0"
   },
   "outputs": [],
   "source": [
    "#sort the list based on distance\n",
    "sorted_l=[]\n",
    "for i in result:\n",
    "    b = sorted(i.items(), key=lambda kv: kv[1])\n",
    "    sorted_l.append(b)"
   ]
  },
  {
   "cell_type": "code",
   "execution_count": null,
   "metadata": {
    "colab": {},
    "colab_type": "code",
    "id": "DXjNY9uPxK6Q"
   },
   "outputs": [],
   "source": [
    "#function to predict class\n",
    "def predict (knn,data_test,data_train):\n",
    "  r1=[]\n",
    "  i=0\n",
    "  while i<len(data_test):\n",
    "    l=[]\n",
    "    index=data_test.iloc[[i]].index[0]\n",
    "    for k in range(knn):\n",
    "      a=int(sorted_l[index][k][0])\n",
    "      l.append(data_train.iloc[a,0])\n",
    "    try:\n",
    "      r1.append(mode(l))\n",
    "    except:\n",
    "      a=0\n",
    "      c=0\n",
    "      while c==0 and a!=len(data_train)-knn:\n",
    "        a=int(sorted_l[i][knn+a][0])\n",
    "        l.append(data_train.iloc[a,0])\n",
    "        try:\n",
    "          r1.append(mode(l))\n",
    "          c=c+1\n",
    "        except:\n",
    "          a=a+1\n",
    "    i=i+1\n",
    "  return(r1)"
   ]
  },
  {
   "cell_type": "code",
   "execution_count": null,
   "metadata": {
    "colab": {},
    "colab_type": "code",
    "id": "tlWw33OGxK6R"
   },
   "outputs": [],
   "source": [
    "#function to calculate accuracy\n",
    "def acc(r1,data_test):\n",
    "  l=[]\n",
    "  for i in range(len(r1)):\n",
    "    if data_test.iloc[i,0]==r1[i]:\n",
    "      l.append(1)\n",
    "    else:\n",
    "      l.append(0)\n",
    "  correct=l.count(1)\n",
    "  x=(correct/len(l))*100\n",
    "  return(x)\n",
    "  #return(l)"
   ]
  },
  {
   "cell_type": "code",
   "execution_count": null,
   "metadata": {
    "colab": {
     "base_uri": "https://localhost:8080/",
     "height": 347
    },
    "colab_type": "code",
    "id": "m2W5vM5jxK6T",
    "outputId": "48e27899-9c06-4ebe-84c7-a1ec45e3cf63",
    "scrolled": true
   },
   "outputs": [],
   "source": [
    "c=0\n",
    "x_=[]\n",
    "y_=[]\n",
    "for i in range(1,20):\n",
    "    r1=predict(i,data_test,data_train)\n",
    "    x=acc(r1,data_test)\n",
    "    x_.append(i)\n",
    "    y_.append(x)\n",
    "    if(x>88):\n",
    "        print(i,x,'\\U0001f600')\n",
    "        #c=x\n",
    "    else:\n",
    "        print(i,'\\U0001f610')"
   ]
  },
  {
   "cell_type": "code",
   "execution_count": null,
   "metadata": {
    "colab": {
     "base_uri": "https://localhost:8080/",
     "height": 265
    },
    "colab_type": "code",
    "id": "BlExJPfpxK6U",
    "outputId": "07aeb185-40aa-473c-ed10-b3c1e3fc5f2d"
   },
   "outputs": [],
   "source": [
    "import matplotlib.pyplot as plt\n",
    "\n",
    "plt.plot(x_,y_)\n",
    "plt.show()"
   ]
  },
  {
   "cell_type": "code",
   "execution_count": null,
   "metadata": {
    "colab": {},
    "colab_type": "code",
    "id": "nFCmYqDNxK6W"
   },
   "outputs": [],
   "source": [
    "#data_train=pd.read_csv('/content/drive/My Drive/data_train_stand.csv')\n",
    "#data_test=pd.read_csv('/content/drive/My Drive/data_test_stand.csv')"
   ]
  },
  {
   "cell_type": "code",
   "execution_count": null,
   "metadata": {
    "colab": {
     "base_uri": "https://localhost:8080/",
     "height": 124
    },
    "colab_type": "code",
    "id": "6rUcQqbePxbU",
    "outputId": "a1902576-f31b-48ff-e1b9-e3d9d96ddcf5"
   },
   "outputs": [],
   "source": [
    "from google.colab import drive\n",
    "drive.mount('/content/drive')"
   ]
  },
  {
   "cell_type": "code",
   "execution_count": null,
   "metadata": {
    "colab": {},
    "colab_type": "code",
    "id": "CFF_p3zzxK6X"
   },
   "outputs": [],
   "source": [
    "#final=pd.read_csv('/content/drive/My Drive/result_latest_stand.csv')"
   ]
  },
  {
   "cell_type": "code",
   "execution_count": null,
   "metadata": {
    "colab": {},
    "colab_type": "code",
    "id": "0rbD9KjxxK6Z"
   },
   "outputs": [],
   "source": [
    "#del data_test['Unnamed: 0']\n",
    "#del data_train['Unnamed: 0']\n",
    "#del final['Unnamed: 0']"
   ]
  },
  {
   "cell_type": "code",
   "execution_count": null,
   "metadata": {
    "colab": {},
    "colab_type": "code",
    "id": "7tdqPRqAxK6c",
    "outputId": "a44570b0-5aa3-4507-a332-1b86d2e814f0"
   },
   "outputs": [],
   "source": [
    "#result"
   ]
  },
  {
   "cell_type": "code",
   "execution_count": null,
   "metadata": {
    "colab": {},
    "colab_type": "code",
    "id": "Qtsyjk7jxK6e"
   },
   "outputs": [],
   "source": [
    "i=0\n",
    "l=[]\n",
    "while i<len(data_test):\n",
    "    a={}\n",
    "    j=0\n",
    "    while j<len(data_train):\n",
    "        a[str(j)]=final.iloc[i,j]\n",
    "        j+=1\n",
    "    l.append(a)\n",
    "    i+=1"
   ]
  },
  {
   "cell_type": "code",
   "execution_count": null,
   "metadata": {
    "colab": {
     "base_uri": "https://localhost:8080/",
     "height": 453
    },
    "colab_type": "code",
    "id": "teRQPXlbxK6g",
    "outputId": "dd726b97-6e27-4255-9753-a6facef9604e"
   },
   "outputs": [],
   "source": [
    "data_test"
   ]
  },
  {
   "cell_type": "code",
   "execution_count": null,
   "metadata": {
    "colab": {},
    "colab_type": "code",
    "id": "8wxH2uLCiqqD"
   },
   "outputs": [],
   "source": [
    "import random\n",
    "def test():\n",
    "  r0=[]\n",
    "  i=random.randint(0,len(data_test))\n",
    "  a=data_test.iloc[[i]]\n",
    "  r0=predict(6,a,data_train)\n",
    "  #print(a)\n",
    "  prediction=r0[0]\n",
    "  #print(data_test.iloc[i])\n",
    "  #print(r0)\n",
    "  actual=data_test.iloc[i,0]\n",
    "  #print('Prediction = ',prediction)\n",
    "  #print('Actual = ',actual)\n",
    "  if (prediction==actual):\n",
    "    #print('Pass','\\U0001f600')\n",
    "    return(1)\n",
    "  else:\n",
    "    #print('Bad Luck','\\U0001f610')\n",
    "    return(0)"
   ]
  },
  {
   "cell_type": "code",
   "execution_count": null,
   "metadata": {
    "colab": {
     "base_uri": "https://localhost:8080/",
     "height": 87
    },
    "colab_type": "code",
    "id": "hCLtQZxfSAS5",
    "outputId": "1216ac24-9af0-49fa-99a1-01d0aeedce16"
   },
   "outputs": [],
   "source": [
    "a=test()\n",
    "a"
   ]
  },
  {
   "cell_type": "code",
   "execution_count": null,
   "metadata": {
    "colab": {
     "base_uri": "https://localhost:8080/",
     "height": 35
    },
    "colab_type": "code",
    "id": "eH4M-fCEUTv_",
    "outputId": "dccde8f8-00c2-41b9-ea4d-edde24f9c51b"
   },
   "outputs": [],
   "source": [
    "d=0\n",
    "for i in range(100):\n",
    "  c=test()\n",
    "  if c==1:\n",
    "    d=d+1\n",
    "x=((d/100)*100)\n",
    "print(x)\n"
   ]
  },
  {
   "cell_type": "code",
   "execution_count": null,
   "metadata": {
    "colab": {},
    "colab_type": "code",
    "id": "cL08UjyCUh7D"
   },
   "outputs": [],
   "source": [
    "r1=0"
   ]
  },
  {
   "cell_type": "code",
   "execution_count": null,
   "metadata": {
    "colab": {},
    "colab_type": "code",
    "id": "v8pYpa-XWlr1"
   },
   "outputs": [],
   "source": [
    "r0=predict(6,a,data_train)"
   ]
  },
  {
   "cell_type": "code",
   "execution_count": null,
   "metadata": {
    "colab": {
     "base_uri": "https://localhost:8080/",
     "height": 35
    },
    "colab_type": "code",
    "id": "juAM4MycW_BK",
    "outputId": "8ee66bc0-b91a-49d2-fe3a-fb3a9e4d7abc"
   },
   "outputs": [],
   "source": [
    "r0"
   ]
  },
  {
   "cell_type": "code",
   "execution_count": null,
   "metadata": {
    "colab": {},
    "colab_type": "code",
    "id": "Ab8s68R2XASJ"
   },
   "outputs": [],
   "source": [
    "a=pd.DataFrame(data_test.iloc[0,:])"
   ]
  },
  {
   "cell_type": "code",
   "execution_count": null,
   "metadata": {
    "colab": {
     "base_uri": "https://localhost:8080/",
     "height": 785
    },
    "colab_type": "code",
    "id": "pcxf3k2gXY9o",
    "outputId": "05a788dd-253c-4304-a70f-e98904eb4657"
   },
   "outputs": [],
   "source": [
    "a"
   ]
  },
  {
   "cell_type": "code",
   "execution_count": null,
   "metadata": {
    "colab": {
     "base_uri": "https://localhost:8080/",
     "height": 35
    },
    "colab_type": "code",
    "id": "rKer7wVUXZ5-",
    "outputId": "e0a436be-6ea6-479d-ab41-56793c60e2a3"
   },
   "outputs": [],
   "source": [
    "b=(data_test.iloc[[5]])\n",
    "b.iloc[0,0]\n",
    "b.index[0]\n"
   ]
  },
  {
   "cell_type": "code",
   "execution_count": null,
   "metadata": {
    "colab": {
     "base_uri": "https://localhost:8080/",
     "height": 87
    },
    "colab_type": "code",
    "id": "ihrT0aXmYg5O",
    "outputId": "9caef7c9-d50c-4d00-c659-a0656fece4be"
   },
   "outputs": [],
   "source": [
    "data_test.columns"
   ]
  },
  {
   "cell_type": "code",
   "execution_count": null,
   "metadata": {
    "colab": {},
    "colab_type": "code",
    "id": "mTou10lfYiKq"
   },
   "outputs": [],
   "source": []
  },
  {
   "cell_type": "code",
   "execution_count": null,
   "metadata": {
    "colab": {
     "base_uri": "https://localhost:8080/",
     "height": 35
    },
    "colab_type": "code",
    "id": "g_yi4f9NamwP",
    "outputId": "58d14d26-bef3-4fb9-c3b9-d5b61dc03567"
   },
   "outputs": [],
   "source": [
    "a"
   ]
  },
  {
   "cell_type": "code",
   "execution_count": null,
   "metadata": {
    "colab": {
     "base_uri": "https://localhost:8080/",
     "height": 35
    },
    "colab_type": "code",
    "id": "6yuL1hCHaqkg",
    "outputId": "f9bfd7fc-b838-428d-e409-89edfc06389f"
   },
   "outputs": [],
   "source": [
    "predict(6,b,data_train)"
   ]
  },
  {
   "cell_type": "code",
   "execution_count": null,
   "metadata": {
    "colab": {},
    "colab_type": "code",
    "id": "5DVATwhqd-vZ"
   },
   "outputs": [],
   "source": []
  }
 ],
 "metadata": {
  "colab": {
   "name": "Final_ML.ipynb",
   "provenance": []
  },
  "kernelspec": {
   "display_name": "Python 3",
   "language": "python",
   "name": "python3"
  },
  "language_info": {
   "codemirror_mode": {
    "name": "ipython",
    "version": 3
   },
   "file_extension": ".py",
   "mimetype": "text/x-python",
   "name": "python",
   "nbconvert_exporter": "python",
   "pygments_lexer": "ipython3",
   "version": "3.7.6"
  }
 },
 "nbformat": 4,
 "nbformat_minor": 1
}
