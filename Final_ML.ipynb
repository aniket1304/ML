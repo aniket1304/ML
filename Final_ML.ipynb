{
 "cells": [
  {
   "cell_type": "code",
   "execution_count": null,
   "metadata": {
    "colab": {},
    "colab_type": "code",
    "id": "rXH0B2RIxK45"
   },
   "outputs": [],
   "source": [
    "from numba import jit, njit, vectorize, cuda\n",
    "import numba"
   ]
  },
  {
   "cell_type": "code",
   "execution_count": null,
   "metadata": {
    "colab": {},
    "colab_type": "code",
    "id": "doWgqpDOxK49"
   },
   "outputs": [],
   "source": [
    "import pandas as pd\n",
    "import numpy as np\n",
    "import copy\n",
    "import statistics\n",
    "from statistics import mode\n",
    "from sklearn.model_selection import train_test_split"
   ]
  },
  {
   "cell_type": "code",
   "execution_count": null,
   "metadata": {
    "colab": {},
    "colab_type": "code",
    "id": "FIKcyS6nxK4_"
   },
   "outputs": [],
   "source": [
    "from sklearn.model_selection import train_test_split"
   ]
  },
  {
   "cell_type": "code",
   "execution_count": null,
   "metadata": {
    "colab": {},
    "colab_type": "code",
    "id": "c6l9SHlpxK5A"
   },
   "outputs": [],
   "source": [
    "data=pd.read_csv('ml.csv')"
   ]
  },
  {
   "cell_type": "code",
   "execution_count": null,
   "metadata": {
    "colab": {},
    "colab_type": "code",
    "id": "ZpPTT-_XxK5C",
    "outputId": "ae403a04-b943-4c20-ac4a-967acad44b15"
   },
   "outputs": [],
   "source": [
    "data.head()"
   ]
  },
  {
   "cell_type": "code",
   "execution_count": null,
   "metadata": {
    "colab": {},
    "colab_type": "code",
    "id": "KgTcYijbxK5S"
   },
   "outputs": [],
   "source": [
    "#standardize the dataset\n",
    "def stand(data):\n",
    "    i=1\n",
    "    a=[]\n",
    "    while i<24:\n",
    "        l=[]\n",
    "        mean=data[data.columns[i]].mean()\n",
    "        sd=data[data.columns[i]].std()\n",
    "        l.append(mean)\n",
    "        l.append(sd)\n",
    "        a.append(l)\n",
    "        i=i+1\n",
    "    j=0\n",
    "    while j<len(data):\n",
    "        k=1\n",
    "        while k<24:\n",
    "            data.iloc[j,k]=(data.iloc[j,k]-a[k-1][0])/a[k-1][1]\n",
    "            k=k+1\n",
    "        print(j)\n",
    "        j=j+1\n",
    "    return(data)"
   ]
  },
  {
   "cell_type": "code",
   "execution_count": null,
   "metadata": {
    "colab": {},
    "colab_type": "code",
    "id": "1o7yQnWVxK5U",
    "outputId": "e5d4d6a1-6f69-445a-c7cd-ad65ac673625",
    "scrolled": true
   },
   "outputs": [],
   "source": [
    "stand(data)"
   ]
  },
  {
   "cell_type": "code",
   "execution_count": null,
   "metadata": {
    "colab": {},
    "colab_type": "code",
    "id": "d-pRiC6pxK5W",
    "outputId": "3efaf76f-caee-4654-a4bd-d956ee18c04d"
   },
   "outputs": [],
   "source": [
    "data.head()"
   ]
  },
  {
   "cell_type": "code",
   "execution_count": null,
   "metadata": {
    "colab": {},
    "colab_type": "code",
    "id": "bZU6tncLxK5X"
   },
   "outputs": [],
   "source": [
    "#split the data into two groups - train and test\n",
    "data_train, data_test = train_test_split(data,test_size=0.2)"
   ]
  },
  {
   "cell_type": "code",
   "execution_count": null,
   "metadata": {
    "colab": {},
    "colab_type": "code",
    "id": "31NbGvz4xK5Z"
   },
   "outputs": [],
   "source": [
    "#get the data ready for training\n",
    "test=copy.deepcopy(data_test)\n",
    "train=copy.deepcopy(data_train)\n",
    "del test['class']\n",
    "del train['class']"
   ]
  },
  {
   "cell_type": "code",
   "execution_count": null,
   "metadata": {
    "colab": {},
    "colab_type": "code",
    "id": "pJrEJw9QxK5a"
   },
   "outputs": [],
   "source": [
    "#save the distance of every test data with every train data as a list of dictionaries\n",
    "#i'th element of dictionary has distance of i'th test data with every train data stored in a dictionary\n",
    "#key = index of train data ; value = distance of i'th test data with key index of train data\n",
    "final=[]\n",
    "def model(train,test):\n",
    "    for i in range(len(test)):\n",
    "        a={}\n",
    "        b=np.array(test.iloc[i])\n",
    "        for j in range(len(train)):\n",
    "            #l=0\n",
    "            c=np.array(train.iloc[j])\n",
    "            diff=b-c\n",
    "            l=np.sqrt(np.sum(np.square(diff)))\n",
    "            a[j]=l\n",
    "        final.append(a)\n",
    "        print(i)\n",
    "    return(final)"
   ]
  },
  {
   "cell_type": "code",
   "execution_count": null,
   "metadata": {
    "colab": {},
    "colab_type": "code",
    "id": "V4jbBTv-xK5c",
    "outputId": "b890c614-1c86-483f-bb1f-8ae437883a05"
   },
   "outputs": [],
   "source": [
    "model(train,test)"
   ]
  },
  {
   "cell_type": "code",
   "execution_count": null,
   "metadata": {
    "colab": {},
    "colab_type": "code",
    "id": "I7n8OlFExK6M"
   },
   "outputs": [],
   "source": [
    "#save distances to another list result\n",
    "result=copy.deepcopy(final)"
   ]
  },
  {
   "cell_type": "code",
   "execution_count": null,
   "metadata": {},
   "outputs": [],
   "source": [
    "#sort the list based on distance\n",
    "sorted_l=[]\n",
    "for i in result:\n",
    "    b = sorted(i.items(), key=lambda kv: kv[1])\n",
    "    sorted_l.append(b)"
   ]
  },
  {
   "cell_type": "code",
   "execution_count": null,
   "metadata": {
    "colab": {},
    "colab_type": "code",
    "id": "DXjNY9uPxK6Q"
   },
   "outputs": [],
   "source": [
    "#function to predict class\n",
    "def predict (knn,data_test,data_train):\n",
    "  r1=[]\n",
    "  i=0\n",
    "  while i<len(data_test):\n",
    "    l=[]\n",
    "    for k in range(knn):\n",
    "      a=int(sorted_l[i][k][0])\n",
    "      l.append(data_train.iloc[a,0])\n",
    "    try:\n",
    "      r1.append(mode(l))\n",
    "    except:\n",
    "      a=0\n",
    "      c=0\n",
    "      while c==0 and a!=len(data_train)-knn:\n",
    "        a=int(sorted_l[i][knn+a][0])\n",
    "        l.append(data_train.iloc[a,0])\n",
    "        try:\n",
    "          r1.append(mode(l))\n",
    "          c=c+1\n",
    "        except:\n",
    "          a=a+1\n",
    "    i=i+1\n",
    "  return(r1)"
   ]
  },
  {
   "cell_type": "code",
   "execution_count": null,
   "metadata": {
    "colab": {},
    "colab_type": "code",
    "id": "tlWw33OGxK6R"
   },
   "outputs": [],
   "source": [
    "#function to calculate accuracy\n",
    "def acc(r1,data_test):\n",
    "  l=[]\n",
    "  for i in range(len(r1)):\n",
    "    if data_test.iloc[i,0]==r1[i]:\n",
    "      l.append(1)\n",
    "    else:\n",
    "      l.append(0)\n",
    "  correct=l.count(1)\n",
    "  x=(correct/len(l))*100\n",
    "  return(x)\n",
    "  #return(l)"
   ]
  },
  {
   "cell_type": "code",
   "execution_count": null,
   "metadata": {
    "colab": {},
    "colab_type": "code",
    "id": "m2W5vM5jxK6T",
    "outputId": "cfc64f7a-b2e2-4556-96e1-c9cbc513c043",
    "scrolled": true
   },
   "outputs": [],
   "source": [
    "c=0\n",
    "x_=[]\n",
    "y_=[]\n",
    "for i in range(1,20):\n",
    "    r1=predict(i,data_test,data_train)\n",
    "    x=acc(r1,data_test)\n",
    "    x_.append(i)\n",
    "    y_.append(x)\n",
    "    if(x>88):\n",
    "        print(i,x,'\\U0001f600')\n",
    "        #c=x\n",
    "    else:\n",
    "        print(i,'\\U0001f610')"
   ]
  },
  {
   "cell_type": "code",
   "execution_count": null,
   "metadata": {
    "colab": {},
    "colab_type": "code",
    "id": "BlExJPfpxK6U",
    "outputId": "37e80d2b-f8e7-49eb-a5c5-0b25ff3bd330"
   },
   "outputs": [],
   "source": [
    "import matplotlib.pyplot as plt\n",
    "\n",
    "plt.plot(x_,y_)\n",
    "plt.show()"
   ]
  },
  {
   "cell_type": "code",
   "execution_count": null,
   "metadata": {
    "colab": {},
    "colab_type": "code",
    "id": "nFCmYqDNxK6W"
   },
   "outputs": [],
   "source": [
    "#data_train=pd.read_csv('data_train_stand.csv')\n",
    "#data_test=pd.read_csv('data_test_stand.csv')"
   ]
  },
  {
   "cell_type": "code",
   "execution_count": null,
   "metadata": {
    "colab": {},
    "colab_type": "code",
    "id": "CFF_p3zzxK6X"
   },
   "outputs": [],
   "source": [
    "#final=pd.read_csv('result_latest_stand.csv')"
   ]
  },
  {
   "cell_type": "code",
   "execution_count": null,
   "metadata": {
    "colab": {},
    "colab_type": "code",
    "id": "0rbD9KjxxK6Z"
   },
   "outputs": [],
   "source": [
    "#del data_test['Unnamed: 0']\n",
    "#del data_train['Unnamed: 0']\n",
    "#del final['Unnamed: 0']"
   ]
  },
  {
   "cell_type": "code",
   "execution_count": null,
   "metadata": {
    "colab": {},
    "colab_type": "code",
    "id": "7tdqPRqAxK6c",
    "outputId": "a44570b0-5aa3-4507-a332-1b86d2e814f0"
   },
   "outputs": [],
   "source": [
    "#result"
   ]
  },
  {
   "cell_type": "code",
   "execution_count": null,
   "metadata": {
    "colab": {},
    "colab_type": "code",
    "id": "Qtsyjk7jxK6e"
   },
   "outputs": [],
   "source": [
    "''''i=0\n",
    "l=[]\n",
    "while i<len(data_test):\n",
    "    a={}\n",
    "    j=0\n",
    "    while j<len(data_train):\n",
    "        a[str(j)]=final.iloc[i,j]\n",
    "        j+=1\n",
    "    l.append(a)\n",
    "    i+=1'''"
   ]
  },
  {
   "cell_type": "code",
   "execution_count": null,
   "metadata": {
    "colab": {},
    "colab_type": "code",
    "id": "teRQPXlbxK6g"
   },
   "outputs": [],
   "source": []
  }
 ],
 "metadata": {
  "colab": {
   "name": "Final.ipynb",
   "provenance": []
  },
  "kernelspec": {
   "display_name": "Python 3",
   "language": "python",
   "name": "python3"
  },
  "language_info": {
   "codemirror_mode": {
    "name": "ipython",
    "version": 3
   },
   "file_extension": ".py",
   "mimetype": "text/x-python",
   "name": "python",
   "nbconvert_exporter": "python",
   "pygments_lexer": "ipython3",
   "version": "3.7.6"
  }
 },
 "nbformat": 4,
 "nbformat_minor": 1
}
